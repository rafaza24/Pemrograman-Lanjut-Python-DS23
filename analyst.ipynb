{
 "cells": [
  {
   "cell_type": "code",
   "execution_count": 11,
   "metadata": {},
   "outputs": [
    {
     "name": "stdout",
     "output_type": "stream",
     "text": [
      "Defaulting to user installation because normal site-packages is not writeable\n",
      "Collecting pandas\n",
      "  Downloading pandas-2.2.3-cp312-cp312-win_amd64.whl.metadata (19 kB)\n",
      "Collecting numpy>=1.26.0 (from pandas)\n",
      "  Downloading numpy-2.2.1-cp312-cp312-win_amd64.whl.metadata (60 kB)\n",
      "Requirement already satisfied: python-dateutil>=2.8.2 in c:\\users\\lenovo\\appdata\\local\\packages\\pythonsoftwarefoundation.python.3.12_qbz5n2kfra8p0\\localcache\\local-packages\\python312\\site-packages (from pandas) (2.9.0.post0)\n",
      "Collecting pytz>=2020.1 (from pandas)\n",
      "  Downloading pytz-2024.2-py2.py3-none-any.whl.metadata (22 kB)\n",
      "Collecting tzdata>=2022.7 (from pandas)\n",
      "  Downloading tzdata-2024.2-py2.py3-none-any.whl.metadata (1.4 kB)\n",
      "Requirement already satisfied: six>=1.5 in c:\\users\\lenovo\\appdata\\local\\packages\\pythonsoftwarefoundation.python.3.12_qbz5n2kfra8p0\\localcache\\local-packages\\python312\\site-packages (from python-dateutil>=2.8.2->pandas) (1.17.0)\n",
      "Downloading pandas-2.2.3-cp312-cp312-win_amd64.whl (11.5 MB)\n",
      "   ---------------------------------------- 0.0/11.5 MB ? eta -:--:--\n",
      "   ----- ---------------------------------- 1.6/11.5 MB 9.3 MB/s eta 0:00:02\n",
      "   ------------ --------------------------- 3.7/11.5 MB 9.5 MB/s eta 0:00:01\n",
      "   ------------------ --------------------- 5.2/11.5 MB 9.1 MB/s eta 0:00:01\n",
      "   ------------------------ --------------- 7.1/11.5 MB 9.1 MB/s eta 0:00:01\n",
      "   ------------------------------ --------- 8.9/11.5 MB 9.1 MB/s eta 0:00:01\n",
      "   ------------------------------------- -- 10.7/11.5 MB 9.1 MB/s eta 0:00:01\n",
      "   ---------------------------------------- 11.5/11.5 MB 8.8 MB/s eta 0:00:00\n",
      "Downloading numpy-2.2.1-cp312-cp312-win_amd64.whl (12.6 MB)\n",
      "   ---------------------------------------- 0.0/12.6 MB ? eta -:--:--\n",
      "   ----- ---------------------------------- 1.8/12.6 MB 9.1 MB/s eta 0:00:02\n",
      "   ----------- ---------------------------- 3.7/12.6 MB 9.1 MB/s eta 0:00:01\n",
      "   ----------------- ---------------------- 5.5/12.6 MB 9.3 MB/s eta 0:00:01\n",
      "   ------------------------ --------------- 7.6/12.6 MB 9.4 MB/s eta 0:00:01\n",
      "   ----------------------------- ---------- 9.4/12.6 MB 9.5 MB/s eta 0:00:01\n",
      "   ----------------------------------- ---- 11.3/12.6 MB 9.3 MB/s eta 0:00:01\n",
      "   ---------------------------------------- 12.6/12.6 MB 9.0 MB/s eta 0:00:00\n",
      "Downloading pytz-2024.2-py2.py3-none-any.whl (508 kB)\n",
      "Downloading tzdata-2024.2-py2.py3-none-any.whl (346 kB)\n",
      "Installing collected packages: pytz, tzdata, numpy, pandas\n",
      "Successfully installed numpy-2.2.1 pandas-2.2.3 pytz-2024.2 tzdata-2024.2\n"
     ]
    }
   ],
   "source": [
    "!pip install pandas\n",
    "import pandas as pd\n"
   ]
  },
  {
   "cell_type": "markdown",
   "metadata": {},
   "source": [
    "Membuat DATAFRAME"
   ]
  },
  {
   "cell_type": "code",
   "execution_count": 68,
   "metadata": {},
   "outputs": [
    {
     "name": "stdout",
     "output_type": "stream",
     "text": [
      "   Tahun           Cakupan  Tingkat Inflasi\n",
      "0   2008      Kota Bandung            10.23\n",
      "1   2009  Prov. Jawa Barat             2.02\n",
      "2   2010          Nasional             4.53\n"
     ]
    }
   ],
   "source": [
    "data = {\n",
    "    'Tahun':[2008,2009,2010],\n",
    "    'Cakupan':['Kota Bandung','Prov. Jawa Barat','Nasional'],\n",
    "    'Tingkat Inflasi':[10.23,2.02,4.53]\n",
    "}\n",
    "\n",
    "df = pd.DataFrame(data)\n",
    "print(df)"
   ]
  },
  {
   "cell_type": "markdown",
   "metadata": {},
   "source": [
    "Membaca dan menulis Data"
   ]
  },
  {
   "cell_type": "code",
   "execution_count": 66,
   "metadata": {},
   "outputs": [
    {
     "name": "stdout",
     "output_type": "stream",
     "text": [
      "         nama;fakultas;nilai_mat;nilai_kim;nilai_fis\n",
      "0       Farhan Fathur Rahman;FMIPA;57.21;34.14;38.93\n",
      "1               Steven Margono;FMIPA;67.43;51.5;57.2\n",
      "2               Ryan Sentosa;SAPPK;90.62;37.38;40.73\n",
      "3        Muhajah Babny Muslim;FMIPA;72.31;38.8;44.79\n",
      "4            Alvin Natawiguna;FTSL;65.45;57.67;56.39\n",
      "...                                              ...\n",
      "5130             Khoirrashif;SITHR;66.14;46.82;56.74\n",
      "5131     Jefri Hendri Adriano;FTSL;53.68;34.74;33.76\n",
      "5132              Iki Hidayat;FITB;69.63;35.04;37.65\n",
      "5133  Muhammad Nashir Sitompul;FTI;79.69;39.06;50.17\n",
      "5134    Billy Richardo Sagala;STEI;68.68;51.23;66.18\n",
      "\n",
      "[5135 rows x 1 columns]\n"
     ]
    }
   ],
   "source": [
    "df = pd.read_csv('D:/angkatan 2023/Sains Data/Rafid Farhan Zai/lab pempro2/baru.csv')\n",
    "print(df)"
   ]
  },
  {
   "cell_type": "markdown",
   "metadata": {},
   "source": [
    "mengubah ke excel "
   ]
  },
  {
   "cell_type": "code",
   "execution_count": null,
   "metadata": {},
   "outputs": [],
   "source": [
    "df.to_excel('output.xlsx',index=False)"
   ]
  },
  {
   "cell_type": "markdown",
   "metadata": {},
   "source": [
    "Mengakses data"
   ]
  },
  {
   "cell_type": "code",
   "execution_count": 69,
   "metadata": {},
   "outputs": [
    {
     "name": "stdout",
     "output_type": "stream",
     "text": [
      "   Tahun       Cakupan  Tingkat Inflasi\n",
      "0   2008  Kota Bandung            10.23\n"
     ]
    }
   ],
   "source": [
    "filtered_data = df[df['Cakupan'] == 'Kota Bandung']\n",
    "print(filtered_data)"
   ]
  }
 ],
 "metadata": {
  "kernelspec": {
   "display_name": "Python 3",
   "language": "python",
   "name": "python3"
  },
  "language_info": {
   "codemirror_mode": {
    "name": "ipython",
    "version": 3
   },
   "file_extension": ".py",
   "mimetype": "text/x-python",
   "name": "python",
   "nbconvert_exporter": "python",
   "pygments_lexer": "ipython3",
   "version": "3.12.8"
  }
 },
 "nbformat": 4,
 "nbformat_minor": 2
}
