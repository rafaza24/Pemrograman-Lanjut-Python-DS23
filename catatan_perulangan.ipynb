{
  "nbformat": 4,
  "nbformat_minor": 0,
  "metadata": {
    "colab": {
      "provenance": [],
      "include_colab_link": true
    },
    "kernelspec": {
      "name": "python3",
      "display_name": "Python 3"
    },
    "language_info": {
      "name": "python"
    }
  },
  "cells": [
    {
      "cell_type": "markdown",
      "metadata": {
        "id": "view-in-github",
        "colab_type": "text"
      },
      "source": [
        "<a href=\"https://colab.research.google.com/github/rafaza24/Pemrograman-Lanjut-Python-DS23/blob/main/catatan_perulangan.ipynb\" target=\"_parent\"><img src=\"https://colab.research.google.com/assets/colab-badge.svg\" alt=\"Open In Colab\"/></a>"
      ]
    },
    {
      "cell_type": "markdown",
      "source": [
        "#**🖥️👩🏻‍💻PRAKTIKUM PEMROGRAMAN LANJUT🔥**\n",
        "##**Pertemuan (2) PENGULANGAN (LOOP) - Senin, 21 Oktober 2024**\n",
        "\n",
        "👤 Nama: Rafid Farhan Zai / NRP: 2C2230001 / Kelas: III/A Sains Data\n",
        "\n",
        "💬Deskripsi Pembahasan Materi Pengulangan:\n",
        "\n",
        "1.1.  Pengulangan (LOOP) 🔂\n",
        "- While Loop 🐋\n",
        "\n",
        "- For Loop\n",
        "\n",
        "1.2. Pengulangan Bersarang ( NESTED LOOP) 🔂🐦‍\n",
        "\n",
        "\n"
      ],
      "metadata": {
        "id": "_bN6_LxQCJZT"
      }
    },
    {
      "cell_type": "markdown",
      "source": [
        "#🤸🏻‍♀️ EKSPLORASI PRIBADI DI KELAS ✨"
      ],
      "metadata": {
        "id": "N0U2Qjks8P9F"
      }
    },
    {
      "cell_type": "code",
      "execution_count": null,
      "metadata": {
        "id": "itmMcxv88OIm"
      },
      "outputs": [],
      "source": [
        "# LIST\n",
        "my_list = [1,2,3]\n",
        "my_list[0] = 10 # mengganti index ke-0 dengan angka 10\n",
        "print(my_list) # hasil output : [10,2,3]\n",
        "my_list[-1] = 10 # mengganti index -1 yang mana index -1 ialah angka terakhir\n",
        "print(my_list) # hasil output : [10,2,10]\n"
      ]
    },
    {
      "cell_type": "code",
      "source": [
        "# PERULANGAN : FOR LOOP\n",
        "var_list = [1,2,3,4,5,6,7,8,9,10] # variabel dengan type list\n",
        "for i in var_list: # perulangan dengan variabel i dengan yang ada di variabel var_list\n",
        "  print(i)"
      ],
      "metadata": {
        "id": "3OVfEwSwNiUS"
      },
      "execution_count": null,
      "outputs": []
    },
    {
      "cell_type": "code",
      "source": [
        "huruf = \"Sains Data IKOPIN University\"\n",
        "for i in huruf :\n",
        "  print(i,end=\" \")"
      ],
      "metadata": {
        "id": "pPAwnO2ZNwSy"
      },
      "execution_count": null,
      "outputs": []
    },
    {
      "cell_type": "code",
      "source": [
        "for i in range(1,11): # range adalah rentang , step range(start,stop,step)\n",
        "  print (i)"
      ],
      "metadata": {
        "id": "wdOPsM0ROnkp"
      },
      "execution_count": null,
      "outputs": []
    },
    {
      "cell_type": "code",
      "source": [
        "for i in range(1,10,2): # dimulai dari 1 , berhenti di index ke 10 dan step nya ditambah 2\n",
        "  print(i)"
      ],
      "metadata": {
        "id": "nJHHgkKfPb8y"
      },
      "execution_count": null,
      "outputs": []
    },
    {
      "cell_type": "code",
      "source": [
        "a = int(input())\n",
        "b = int(input())\n",
        "\n",
        "for i in range(a,b+1):\n",
        "  print(i)"
      ],
      "metadata": {
        "id": "KzVcCwzxSuXw"
      },
      "execution_count": null,
      "outputs": []
    },
    {
      "cell_type": "code",
      "source": [
        "# WHILE LOOP\n",
        "counter = 1\n",
        "while counter <= 10:\n",
        "  print(counter)\n",
        "  counter += 1 #incerement"
      ],
      "metadata": {
        "id": "PzI2cyzRTyXp"
      },
      "execution_count": null,
      "outputs": []
    },
    {
      "cell_type": "code",
      "source": [
        "a = int(input())\n",
        "b = int(input())\n",
        "\n",
        "i = a\n",
        "while(i<= b): #kondisi\n",
        "  print(\"rafid farhan zai\")\n",
        "  i += 1"
      ],
      "metadata": {
        "id": "smUVP5OkUvpB"
      },
      "execution_count": null,
      "outputs": []
    },
    {
      "cell_type": "code",
      "source": [
        "# FOR NESTED LOOP\n",
        "n = int(input())\n",
        "\n",
        "for i in range(n):\n",
        "  for j in range(n):\n",
        "    print(\"*\",end=\"\")"
      ],
      "metadata": {
        "colab": {
          "base_uri": "https://localhost:8080/"
        },
        "id": "cZfxBr8VWFm_",
        "outputId": "6a59b883-cce7-4989-c59b-0a1e8901e40b"
      },
      "execution_count": null,
      "outputs": [
        {
          "output_type": "stream",
          "name": "stdout",
          "text": [
            "1\n",
            "*"
          ]
        }
      ]
    },
    {
      "cell_type": "code",
      "source": [
        "# input bilangan N\n",
        "N = int(input(\"masukan N : \"))\n",
        "\n",
        "# mencari N kelipatan 7 terkecil yang lebih besar dari N\n",
        "i = N + 1\n",
        "while i % 7 != 0:# selama i belum menjadi kelipatan 7\n",
        "  i += 1 # tambah 1\n",
        "\n",
        "# output hasil\n",
        "print(\"output:\",i)"
      ],
      "metadata": {
        "id": "HMDu6148Yjvm"
      },
      "execution_count": null,
      "outputs": []
    },
    {
      "cell_type": "code",
      "source": [
        "N = int(input(\"masukan nilai user : \"))\n",
        "\n",
        "for i in range(1,N+1):\n",
        "  print('*'*i)"
      ],
      "metadata": {
        "id": "Yv4XlARoaLmn"
      },
      "execution_count": null,
      "outputs": []
    },
    {
      "cell_type": "code",
      "source": [
        "N = int(input(\"masukan nilai N : \"))\n",
        "\n",
        "for i in range(N,0,-1):\n",
        "  for j in range(1,i+1):\n",
        "    print(j,end=\"\")\n",
        "  print()"
      ],
      "metadata": {
        "id": "zyEApulkao4n"
      },
      "execution_count": null,
      "outputs": []
    },
    {
      "cell_type": "code",
      "source": [
        "N =int(input(\"Masukan nilai N : \"))\n",
        "\n",
        "for x in range(1,N+1):\n",
        "  if x % 2 == 0 and x % 3 == 0:\n",
        "    print(\"DuaTiga\",end=\" \")\n",
        "  elif x % 2 == 0 :\n",
        "    print(\"Dua\",end=\" \")\n",
        "  elif x % 3 == 0:\n",
        "    print(\"Tiga\",end=\" \")\n",
        "  else:\n",
        "    print(x,end=\" \")\n",
        "print()"
      ],
      "metadata": {
        "colab": {
          "base_uri": "https://localhost:8080/"
        },
        "id": "CIbmXfEobUI_",
        "outputId": "d424382a-3672-459e-d481-e65ac3ad82af"
      },
      "execution_count": null,
      "outputs": [
        {
          "output_type": "stream",
          "name": "stdout",
          "text": [
            "Masukan nilai N : 10\n",
            "1 Dua Tiga Dua 5 DuaTiga 7 Dua Tiga Dua \n"
          ]
        }
      ]
    },
    {
      "cell_type": "markdown",
      "source": [
        "- Interpretasi coding:\n",
        "\n",
        "- Interpretasi Hasil:"
      ],
      "metadata": {
        "id": "f1J9LJyv9-YC"
      }
    },
    {
      "cell_type": "markdown",
      "source": [
        "#🧠 LATIHAN SOAL DI KELAS ⏱️"
      ],
      "metadata": {
        "id": "KEGjH0_P9D1-"
      }
    },
    {
      "cell_type": "markdown",
      "source": [
        "Problem (1) Kalkulator Sederhana"
      ],
      "metadata": {
        "id": "nt7-fY7s9PgC"
      }
    },
    {
      "cell_type": "markdown",
      "source": [
        "- Interpretasi coding: Function bil_terkecil(N) akan ditambahkan secara bertahap hingga menemukan bilangan yang habis dibagi 10 (kelipatan 10).setelah menemukannya, fungsi mengembalikan bilangan tersebut,Program mencetak hasilnya.\n",
        "\n",
        "- Interpretasi Hasil: program akan menampilkan bilangan kelipatan 10 terkecil yang lebih besar dari nilai N yang dimasukkan oleh user."
      ],
      "metadata": {
        "id": "Wou8YKfJ9lvY"
      }
    },
    {
      "cell_type": "code",
      "source": [
        "def bil_terkecil(N):\n",
        "  while True:\n",
        "    N += 1\n",
        "    if N % 10 == 0:\n",
        "      return N\n",
        "\n",
        "N = int(input(\"Masukan bilangan N: \"))\n",
        "print(\"Bilangan 10 terkecil yang lebih dari N adalah:\", bil_terkecil(N))"
      ],
      "metadata": {
        "id": "h7si6sBj9Mr4",
        "colab": {
          "base_uri": "https://localhost:8080/"
        },
        "outputId": "46d78e39-0bb8-415a-f171-4a20d47f140b"
      },
      "execution_count": 7,
      "outputs": [
        {
          "output_type": "stream",
          "name": "stdout",
          "text": [
            "Masukan bilangan N: 5\n",
            "Bilangan 10 terkecil yang lebih dari N adalah: 10\n"
          ]
        }
      ]
    },
    {
      "cell_type": "markdown",
      "source": [
        "Problem (2) Segitiga Bilangan\n",
        "\n"
      ],
      "metadata": {
        "id": "Eucg6DUK9fgA"
      }
    },
    {
      "cell_type": "code",
      "source": [
        "n =int(input(\"Masukan N: \"))\n",
        "\n",
        "for i in range(1, n+1):\n",
        "  for j in range(1, i+1):\n",
        "    print(j, end=\"\")\n",
        "  print()"
      ],
      "metadata": {
        "id": "9uWMEZpP9hlB",
        "colab": {
          "base_uri": "https://localhost:8080/"
        },
        "outputId": "3c5c3d29-a4e7-445a-d7ea-30383ebd3a03"
      },
      "execution_count": 8,
      "outputs": [
        {
          "output_type": "stream",
          "name": "stdout",
          "text": [
            "Masukan N: 6\n",
            "1\n",
            "12\n",
            "123\n",
            "1234\n",
            "12345\n",
            "123456\n"
          ]
        }
      ]
    },
    {
      "cell_type": "markdown",
      "source": [
        "- Interpretasi coding: meminta input dari user berupa angka dan simpan di variabel n, pada loop pertama mongontrol jumlah baris ,loop kedua mengontrol angka yang dicetak pada setiap baris, lalu mencetak  nilai j tanpa pindah baris\n",
        "\n",
        "- Interpretasi Hasil: menghasilkan pola segitiga angka sesuai dengan inputan dan setiap baris berurutan dari 1"
      ],
      "metadata": {
        "id": "fM9Fo97_93Ni"
      }
    },
    {
      "cell_type": "markdown",
      "source": [
        "#🏆 POST TEST 🎯"
      ],
      "metadata": {
        "id": "J_75vTSXKFGE"
      }
    },
    {
      "cell_type": "markdown",
      "source": [
        "Problem (1)"
      ],
      "metadata": {
        "id": "twhHfrqiKSfV"
      }
    },
    {
      "cell_type": "code",
      "source": [
        "def keluaran(N, A, B, C):\n",
        "  for i in range(1, N + 1):\n",
        "    keluaran = \"\"\n",
        "    if i % A == 0:\n",
        "      keluaran += \"Siap\"\n",
        "    if i % B == 0:\n",
        "      keluaran += \"Bang\"\n",
        "    if i % C == 0:\n",
        "      keluaran += \"Jago\"\n",
        "    if keluaran == \"\":\n",
        "      keluaran = str(i)\n",
        "    print(keluaran, end=\" \")\n",
        "\n",
        "N = int(input(\"Masukkan nilai N: \"))\n",
        "A = int(input(\"Masukkan nilai A: \"))\n",
        "B = int(input(\"Masukkan nilai B: \"))\n",
        "C = int(input(\"Masukkan nilai C: \"))\n",
        "\n",
        "keluaran(N, A, B, C)"
      ],
      "metadata": {
        "id": "hOI8Gls9KV05",
        "colab": {
          "base_uri": "https://localhost:8080/"
        },
        "outputId": "a057048c-4d79-49f7-c7ce-934e6cc2d954"
      },
      "execution_count": 10,
      "outputs": [
        {
          "output_type": "stream",
          "name": "stdout",
          "text": [
            "Masukkan nilai N: 5\n",
            "Masukkan nilai A: 1\n",
            "Masukkan nilai B: 1\n",
            "Masukkan nilai C: 1\n",
            "SiapBangJago SiapBangJago SiapBangJago SiapBangJago SiapBangJago "
          ]
        }
      ]
    },
    {
      "cell_type": "markdown",
      "source": [
        "- Interpretasi coding:\n",
        "Loop berjalan dari 1.\n",
        "Untuk setiap:\n",
        "Jika habis dibagi A, cetak “Siap”.\n",
        "Jika habis dibagi B, cetak “Bang”.\n",
        "Jika habis dibagi C, cetak “Jago”.\n",
        "Jika tidak habis dibagi,, atau, cetak angka.\n",
        "Hasilnya ditampilkan dalam satu baris dengan spasi sebagai pemisah.\n",
        "- Interpretasi hasil:\n",
        "Angka 1 habis dibagi, jadi keluar “Siap”.\n",
        "Angka 1 habis dibagi, jadi keluar “Bang”.\n",
        "Angka 1 habis dibagi, jadi keluar “Jago”."
      ],
      "metadata": {
        "id": "t9x---59KWVI"
      }
    },
    {
      "cell_type": "markdown",
      "source": [
        "📌Catatan:\n",
        "  - Notebook python ini dibuat untuk memudahkan temen-temen belajar ngoding dan pengumpulan tugas.\n",
        "  - Silakan download notebook ini lalu upload di Google Collab milik kalian agar format `pertemuan`, `topik pertemuan`,\n",
        "`tanggal`, `deskripsi pembahasan materi`, `baris coding` dan `interpretasi` bisa disesuaikan dengan kebutuhan teman-teman.\n",
        "\n",
        "  - Interpretasi coding dan hasil dimaksudkan agar teman-teman semakin memahami apa yang dipelajari.\n",
        "\n",
        "  - Deskripsi pembahasan materi dimaksudkan agar teman-teman semakin memahami apa fokus yang dipelajari.\n",
        "\n",
        "  - Tulisan di setiap sebelum baris code disebut `markdown`. Ada beberapa jenis simbol yang memudahkan kepenulisan `markdown` kita, yaitu seperti : untuk mengatur ukuran tulisan biasanya tulisan pada header menggunakan ini`#`, `##`, `###`, untuk membuat pointer menggunakan ini `-`, untuk membuat tulisan ter-highlight menggunakan ini *` `* , untuk short-cut membuat tulisan jadi **bold** gunakan ini `** **`, dan untuk *tulisan miring* gunakan ini `* *` .\n",
        "\n",
        "  - Semangat belajar! 🌟✨\n",
        "\n",
        "©️ LABORATORIUM SAINS DATA 2024"
      ],
      "metadata": {
        "id": "D-tRQnbQK69l"
      }
    }
  ]
}