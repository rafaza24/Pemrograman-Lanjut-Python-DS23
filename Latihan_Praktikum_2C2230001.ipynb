{
  "nbformat": 4,
  "nbformat_minor": 0,
  "metadata": {
    "colab": {
      "provenance": [],
      "authorship_tag": "ABX9TyP4fQM9kvnqvFbMvgzpfaaG",
      "include_colab_link": true
    },
    "kernelspec": {
      "name": "python3",
      "display_name": "Python 3"
    },
    "language_info": {
      "name": "python"
    }
  },
  "cells": [
    {
      "cell_type": "markdown",
      "metadata": {
        "id": "view-in-github",
        "colab_type": "text"
      },
      "source": [
        "<a href=\"https://colab.research.google.com/github/rafaza24/Pemrograman-Lanjut-Python-DS23/blob/main/Latihan_Praktikum_2C2230001.ipynb\" target=\"_parent\"><img src=\"https://colab.research.google.com/assets/colab-badge.svg\" alt=\"Open In Colab\"/></a>"
      ]
    },
    {
      "cell_type": "code",
      "execution_count": 6,
      "metadata": {
        "colab": {
          "base_uri": "https://localhost:8080/"
        },
        "id": "geEsS0mgO7jb",
        "outputId": "7f142643-7399-4349-e75e-33c0eb364069"
      },
      "outputs": [
        {
          "output_type": "stream",
          "name": "stdout",
          "text": [
            "Masukan berat badan 20\n",
            "Tidak Memenuhi Kualifikasi\n"
          ]
        }
      ],
      "source": [
        "#Nomor 1\n",
        "bb = int(input(\"Masukan berat badan \"))\n",
        "\n",
        "if bb >= 45 and bb <= 50 :\n",
        "  print(\"Kelas A\")\n",
        "elif bb > 50 and bb <= 55:\n",
        "  print(\"Kelas B\")\n",
        "elif bb > 55 and bb <= 60:\n",
        "  print(\"Kelas C\")\n",
        "elif bb > 60 and bb <= 65:\n",
        "  print(\"Kelas D\")\n",
        "elif bb > 65 and bb <= 70:\n",
        "  print(\"Kelas E\")\n",
        "elif bb > 70 :\n",
        "  print(\"Kelas F\")\n",
        "else :\n",
        "  print(\"Tidak Memenuhi Kualifikasi\")"
      ]
    },
    {
      "cell_type": "code",
      "source": [
        "# Nomor 2\n",
        "angka = int(input(\"Masukkan bilangan bulat ratusan (3 digit): \"))\n",
        "if 100 <= angka <= 999:\n",
        "\n",
        "  ratusan = angka // 100\n",
        "  puluhan = (angka // 10) % 10\n",
        "  satuan = angka % 10\n",
        "  jumlah = ratusan**3 + puluhan**3 + satuan**3\n",
        "\n",
        "  if jumlah == angka:\n",
        "    print(\"Bilangan tersebut adalah bilangan Armstrong.\")\n",
        "  else:\n",
        "    print(\"Bukan bilangan Armstrong\")\n",
        "else:\n",
        "  print(\"Masukkan angka 3 digit\")"
      ],
      "metadata": {
        "colab": {
          "base_uri": "https://localhost:8080/"
        },
        "id": "iLwDfp9xR4Mb",
        "outputId": "f8207d39-a126-4f61-ae6d-27ad976b927a"
      },
      "execution_count": 12,
      "outputs": [
        {
          "output_type": "stream",
          "name": "stdout",
          "text": [
            "Masukkan bilangan bulat ratusan (3 digit): 153\n",
            "Bilangan tersebut adalah bilangan Armstrong.\n"
          ]
        }
      ]
    },
    {
      "cell_type": "code",
      "source": [
        "# Nomor 3\n",
        "import math\n",
        "r = float(input(\"Masukan Jari-Jari : \"))\n",
        "volume_Bola = (4/3)* math.pi * r**3\n",
        "print(f\"Volume dari Bola dengan Jari-jari {r} adalah {volume_Bola}\")"
      ],
      "metadata": {
        "colab": {
          "base_uri": "https://localhost:8080/"
        },
        "id": "DF7lrFi7Uk_H",
        "outputId": "1048c918-6aee-4f5b-f290-12df98fe2aa5"
      },
      "execution_count": 15,
      "outputs": [
        {
          "output_type": "stream",
          "name": "stdout",
          "text": [
            "Masukan Jari-Jari : 3\n",
            "Volume dari Bola dengan Jari-jari 3.0 adalah 113.09733552923254\n"
          ]
        }
      ]
    },
    {
      "cell_type": "code",
      "source": [
        "# Nomor 4\n",
        "tot_tinggi = 0\n",
        "jml_siswa_benar = 0\n",
        "tinggi_benar = []\n",
        "\n",
        "n = int(input(\"Masukkan jumlah siswa: \"))\n",
        "\n",
        "print(\"\\nMasukkan tinggi setiap siswa (dalam cm):\")\n",
        "for i in range(n):\n",
        "    tinggi = int(input(f\"Tinggi siswa ke-{i+1}: \"))\n",
        "\n",
        "    if 100 <= tinggi <= 200:\n",
        "        tot_tinggi += tinggi\n",
        "        jml_siswa_benar += 1\n",
        "        tinggi_benar.append(tinggi)\n",
        "\n",
        "print(\"\\nHasil Perhitungan:\")\n",
        "if jml_siswa_benar > 0:\n",
        "    rata2 = tot_tinggi / jml_siswa_benar\n",
        "    print(f\"Jumlah siswa total: {n}\")\n",
        "    print(f\"Jumlah siswa dengan tinggi valid: {jml_siswa_benar}\")\n",
        "    print(f\"Data tinggi yang valid: {tinggi_benar}\")\n",
        "    print(f\"Rata-rata tinggi: {rata2:.2f} cm\")\n",
        "\n",
        "    if jml_siswa_benar < n:\n",
        "        print(f\"\\nCatatan: {n - jml_siswa_benar} data tinggi diabaikan karena di luar dari rentang 100-200 cm\")\n",
        "else:\n",
        "    print(\"Tidak ada data tinggi yang valid untuk dihitung (semua di luar rentang 100-200 cm)\")\n"
      ],
      "metadata": {
        "colab": {
          "base_uri": "https://localhost:8080/"
        },
        "id": "p_rvboasWmOL",
        "outputId": "c2d80b77-9c27-42b6-f237-d3066e137ada"
      },
      "execution_count": 23,
      "outputs": [
        {
          "output_type": "stream",
          "name": "stdout",
          "text": [
            "Masukkan jumlah siswa: 3\n",
            "\n",
            "Masukkan tinggi setiap siswa (dalam cm):\n",
            "Tinggi siswa ke-1: 100\n",
            "Tinggi siswa ke-2: 120\n",
            "Tinggi siswa ke-3: 130\n",
            "\n",
            "Hasil Perhitungan:\n",
            "Jumlah siswa total: 3\n",
            "Jumlah siswa dengan tinggi valid: 3\n",
            "Data tinggi yang valid: [100, 120, 130]\n",
            "Rata-rata tinggi: 116.67 cm\n"
          ]
        }
      ]
    },
    {
      "cell_type": "code",
      "source": [
        "# nomor 5\n",
        "jml_mhs = int(input(\"Masukkan jumlah mahasiswa: \"))\n",
        "\n",
        "for i in range(jml_mhs):\n",
        "    nama = input(\"Masukkan nama mahasiswa: \")\n",
        "    praktikum = float(input(\"Masukkan nilai praktikum: \"))\n",
        "    uts = float(input(\"Masukkan nilai UTS: \"))\n",
        "    uas = float(input(\"Masukkan nilai UAS: \"))\n",
        "\n",
        "    nilai_akhir = 0.2 * praktikum + 0.4 * uts + 0.4 * uas\n",
        "\n",
        "    if nilai_akhir >= 85:\n",
        "        indeks = \"A\"\n",
        "    elif 85 > nilai_akhir >= 75:\n",
        "        indeks = \"AB\"\n",
        "    elif 75 > nilai_akhir >= 70 :\n",
        "        indeks = \"B\"\n",
        "    elif 70 > nilai_akhir >= 60:\n",
        "        indeks = \"BC\"\n",
        "    elif  60 > nilai_akhir >= 50:\n",
        "        indeks = \"C\"\n",
        "    elif 50 > nilai_akhir >= 40:\n",
        "        indeks = \"D\"\n",
        "    else:\n",
        "        indeks = \"E\"\n",
        "\n",
        "\n",
        "    print(f\"Nama: {nama}\")\n",
        "    print(f\"Nilai Akhir: {nilai_akhir:}\")\n",
        "    print(f\"Indeks: {indeks}\")"
      ],
      "metadata": {
        "colab": {
          "base_uri": "https://localhost:8080/"
        },
        "id": "atcwUsD-eaC3",
        "outputId": "947e2988-80d9-4e2f-8a9b-55d33a25f24c"
      },
      "execution_count": 24,
      "outputs": [
        {
          "output_type": "stream",
          "name": "stdout",
          "text": [
            "Masukkan jumlah mahasiswa: 2\n",
            "Masukkan nama mahasiswa: asep\n",
            "Masukkan nilai praktikum: 50\n",
            "Masukkan nilai UTS: 50\n",
            "Masukkan nilai UAS: 50\n",
            "Nama: asep\n",
            "Nilai Akhir: 50.0\n",
            "Indeks: C\n",
            "Masukkan nama mahasiswa: udin\n",
            "Masukkan nilai praktikum: 90\n",
            "Masukkan nilai UTS: 70\n",
            "Masukkan nilai UAS: 70\n",
            "Nama: udin\n",
            "Nilai Akhir: 74.0\n",
            "Indeks: B\n"
          ]
        }
      ]
    }
  ]
}