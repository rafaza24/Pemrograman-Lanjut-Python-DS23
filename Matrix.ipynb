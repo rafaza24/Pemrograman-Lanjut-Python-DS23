{
  "nbformat": 4,
  "nbformat_minor": 0,
  "metadata": {
    "colab": {
      "provenance": [],
      "authorship_tag": "ABX9TyOhKQ19hc9ytvDSgLvkCuyh",
      "include_colab_link": true
    },
    "kernelspec": {
      "name": "python3",
      "display_name": "Python 3"
    },
    "language_info": {
      "name": "python"
    }
  },
  "cells": [
    {
      "cell_type": "markdown",
      "metadata": {
        "id": "view-in-github",
        "colab_type": "text"
      },
      "source": [
        "<a href=\"https://colab.research.google.com/github/rafaza24/Pemrograman-Lanjut-Python-DS23/blob/main/Matrix.ipynb\" target=\"_parent\"><img src=\"https://colab.research.google.com/assets/colab-badge.svg\" alt=\"Open In Colab\"/></a>"
      ]
    },
    {
      "cell_type": "markdown",
      "source": [
        "Pengantar Matrix"
      ],
      "metadata": {
        "id": "bKneby_PfTJ3"
      }
    },
    {
      "cell_type": "code",
      "execution_count": null,
      "metadata": {
        "id": "TvJx3WBFfNC7"
      },
      "outputs": [],
      "source": [
        "A = [[0 for j in range(20)] for i in range(10)]\n",
        "\n",
        "print(A)"
      ]
    },
    {
      "cell_type": "code",
      "source": [
        "n = int(input(\"Masukan baris : \"))\n",
        "m = int(input(\"Masukan kolom : \"))\n",
        "\n",
        "A = [[0 for j in range(m)] for i in range(n) ]\n",
        "\n",
        "for i in range(n):\n",
        "  for j in range(m):\n",
        "    A[i][j] = int(input(f\"masukan elemen baris ke-{str(i+1)} kolom ke-{str(j+1)} :\"))\n",
        "\n",
        "for i in range(n):\n",
        "  for j in range(m):\n",
        "    print(A[i][j],end=\" \")\n",
        "  print(\"\")"
      ],
      "metadata": {
        "colab": {
          "base_uri": "https://localhost:8080/"
        },
        "id": "hbkNFS-Hfi41",
        "outputId": "c6fe4257-2421-4334-b9d1-3502b71080e4"
      },
      "execution_count": 9,
      "outputs": [
        {
          "output_type": "stream",
          "name": "stdout",
          "text": [
            "Masukan baris : 3\n",
            "Masukan kolom : 3\n",
            "masukan elemen baris ke-1 kolom ke-1 :1\n",
            "masukan elemen baris ke-1 kolom ke-2 :2\n",
            "masukan elemen baris ke-1 kolom ke-3 :3\n",
            "masukan elemen baris ke-2 kolom ke-1 :4\n",
            "masukan elemen baris ke-2 kolom ke-2 :5\n",
            "masukan elemen baris ke-2 kolom ke-3 :6\n",
            "masukan elemen baris ke-3 kolom ke-1 :7\n",
            "masukan elemen baris ke-3 kolom ke-2 :8\n",
            "masukan elemen baris ke-3 kolom ke-3 :9\n",
            "1 2 3 \n",
            "4 5 6 \n",
            "7 8 9 \n"
          ]
        }
      ]
    },
    {
      "cell_type": "markdown",
      "source": [
        "Menggunakan Library"
      ],
      "metadata": {
        "id": "I10A--Dhjded"
      }
    },
    {
      "cell_type": "code",
      "source": [
        "import numpy as np\n",
        "\n",
        "x1 = np.array([[2,3,4],[2,5,6],[6,7,8]])\n",
        "x1"
      ],
      "metadata": {
        "colab": {
          "base_uri": "https://localhost:8080/"
        },
        "id": "ZEEsRbWUitpt",
        "outputId": "06f0ba4d-5303-4545-d5f8-64fdcf7de90b"
      },
      "execution_count": 10,
      "outputs": [
        {
          "output_type": "execute_result",
          "data": {
            "text/plain": [
              "array([[2, 3, 4],\n",
              "       [2, 5, 6],\n",
              "       [6, 7, 8]])"
            ]
          },
          "metadata": {},
          "execution_count": 10
        }
      ]
    },
    {
      "cell_type": "markdown",
      "source": [
        "menggunakan list"
      ],
      "metadata": {
        "id": "gqGn3Zl0jowV"
      }
    },
    {
      "cell_type": "code",
      "source": [
        "ls = [[2,3,4],[2,5,6],[6,7,8]]\n",
        "ls"
      ],
      "metadata": {
        "colab": {
          "base_uri": "https://localhost:8080/"
        },
        "id": "YraWv00yjrIG",
        "outputId": "1ad6bd42-218b-40c8-e9a1-a067c8a54b27"
      },
      "execution_count": 11,
      "outputs": [
        {
          "output_type": "execute_result",
          "data": {
            "text/plain": [
              "[[2, 3, 4], [2, 5, 6], [6, 7, 8]]"
            ]
          },
          "metadata": {},
          "execution_count": 11
        }
      ]
    },
    {
      "cell_type": "code",
      "source": [
        "A = [[0 for j in range(20)] for i in range(10)]\n",
        "A"
      ],
      "metadata": {
        "colab": {
          "base_uri": "https://localhost:8080/"
        },
        "id": "EnK6aGoKj48O",
        "outputId": "adf97faf-79a6-40fe-af4d-93787e7256c2"
      },
      "execution_count": 12,
      "outputs": [
        {
          "output_type": "execute_result",
          "data": {
            "text/plain": [
              "[[0, 0, 0, 0, 0, 0, 0, 0, 0, 0, 0, 0, 0, 0, 0, 0, 0, 0, 0, 0],\n",
              " [0, 0, 0, 0, 0, 0, 0, 0, 0, 0, 0, 0, 0, 0, 0, 0, 0, 0, 0, 0],\n",
              " [0, 0, 0, 0, 0, 0, 0, 0, 0, 0, 0, 0, 0, 0, 0, 0, 0, 0, 0, 0],\n",
              " [0, 0, 0, 0, 0, 0, 0, 0, 0, 0, 0, 0, 0, 0, 0, 0, 0, 0, 0, 0],\n",
              " [0, 0, 0, 0, 0, 0, 0, 0, 0, 0, 0, 0, 0, 0, 0, 0, 0, 0, 0, 0],\n",
              " [0, 0, 0, 0, 0, 0, 0, 0, 0, 0, 0, 0, 0, 0, 0, 0, 0, 0, 0, 0],\n",
              " [0, 0, 0, 0, 0, 0, 0, 0, 0, 0, 0, 0, 0, 0, 0, 0, 0, 0, 0, 0],\n",
              " [0, 0, 0, 0, 0, 0, 0, 0, 0, 0, 0, 0, 0, 0, 0, 0, 0, 0, 0, 0],\n",
              " [0, 0, 0, 0, 0, 0, 0, 0, 0, 0, 0, 0, 0, 0, 0, 0, 0, 0, 0, 0],\n",
              " [0, 0, 0, 0, 0, 0, 0, 0, 0, 0, 0, 0, 0, 0, 0, 0, 0, 0, 0, 0]]"
            ]
          },
          "metadata": {},
          "execution_count": 12
        }
      ]
    },
    {
      "cell_type": "markdown",
      "source": [
        "dot = perkalian"
      ],
      "metadata": {
        "id": "5lrKcp8GkftV"
      }
    },
    {
      "cell_type": "code",
      "source": [
        "x2 = np.dot(x1,x1)\n",
        "x2"
      ],
      "metadata": {
        "colab": {
          "base_uri": "https://localhost:8080/"
        },
        "id": "PLEw9iQukXOO",
        "outputId": "29b9d380-d620-48a3-8e17-17f95967219f"
      },
      "execution_count": 17,
      "outputs": [
        {
          "output_type": "execute_result",
          "data": {
            "text/plain": [
              "array([[ 34,  49,  58],\n",
              "       [ 50,  73,  86],\n",
              "       [ 74, 109, 130]])"
            ]
          },
          "metadata": {},
          "execution_count": 17
        }
      ]
    },
    {
      "cell_type": "markdown",
      "source": [
        "LATIHAN"
      ],
      "metadata": {
        "id": "5y4JQfpgoYmP"
      }
    },
    {
      "cell_type": "markdown",
      "source": [
        "NOMOR 1"
      ],
      "metadata": {
        "id": "3VXKtmFJof9f"
      }
    },
    {
      "cell_type": "code",
      "source": [
        "n = int(input(\"Masukkan jumlah baris Matrix segitiga Pascal: \"))\n",
        "\n",
        "pascal = []\n",
        "\n",
        "for i in range(n):\n",
        "    baris = [1] * (i + 1)\n",
        "    for j in range(1, i):\n",
        "        baris[j] = pascal[i-1][j-1] + pascal[i-1][j]\n",
        "    pascal.append(baris)\n",
        "    print(\" \".join(map(str, baris)))\n"
      ],
      "metadata": {
        "colab": {
          "base_uri": "https://localhost:8080/"
        },
        "id": "RmsOv51dmiX-",
        "outputId": "b1de49ef-add5-47b7-f3b4-02a34b0ca94e"
      },
      "execution_count": 19,
      "outputs": [
        {
          "output_type": "stream",
          "name": "stdout",
          "text": [
            "Masukkan jumlah baris Matrix segitiga Pascal: 5\n",
            "1\n",
            "1 1\n",
            "1 2 1\n",
            "1 3 3 1\n",
            "1 4 6 4 1\n"
          ]
        }
      ]
    },
    {
      "cell_type": "markdown",
      "source": [
        "NOMOR 2"
      ],
      "metadata": {
        "id": "m8hsm9weoill"
      }
    },
    {
      "cell_type": "markdown",
      "source": [
        "A"
      ],
      "metadata": {
        "id": "rIqKz54krMAG"
      }
    },
    {
      "cell_type": "code",
      "source": [
        "#2a\n",
        "import numpy as np\n",
        "A = np.array([[1,2],[3,4]])\n",
        "print(A)\n",
        "determinan_A = np.linalg.det(A)\n",
        "print(f\"Determinan dari matrix a adalah {int(determinan_A)}\\n\")\n",
        "\n",
        "B = np.array([[-1,3,0],[2,1,-5],[1,4,-2]])\n",
        "print(B)\n",
        "determinan_B = np.linalg.det(B)\n",
        "print(f\"Determinan dari matrix b adalah {int(determinan_B)}\\n\")"
      ],
      "metadata": {
        "colab": {
          "base_uri": "https://localhost:8080/"
        },
        "id": "go_TlhMzokzF",
        "outputId": "878e411d-0262-4ebd-90e2-a30ae465457b"
      },
      "execution_count": 17,
      "outputs": [
        {
          "output_type": "stream",
          "name": "stdout",
          "text": [
            "[[1 2]\n",
            " [3 4]]\n",
            "Determinan dari matrix a adalah -2\n",
            "\n",
            "[[-1  3  0]\n",
            " [ 2  1 -5]\n",
            " [ 1  4 -2]]\n",
            "Determinan dari matrix b adalah -21\n",
            "\n"
          ]
        }
      ]
    },
    {
      "cell_type": "markdown",
      "source": [
        "B"
      ],
      "metadata": {
        "id": "czMLcHNcrOHG"
      }
    },
    {
      "cell_type": "code",
      "source": [
        "A = [[1,3,7,2],[5,8,-9,0],[6,-7,11,12]]\n",
        "transpose = [[A[j][i] for j in range(len(A))] for i in range(len(A[0]))]\n",
        "\n",
        "print(\"\\nTranspose matriks A\")\n",
        "for baris in transpose:\n",
        "    print(baris)"
      ],
      "metadata": {
        "colab": {
          "base_uri": "https://localhost:8080/"
        },
        "id": "neMz5skFrRK9",
        "outputId": "aca9c30a-3fe8-43e5-c43e-a9088198436f"
      },
      "execution_count": 11,
      "outputs": [
        {
          "output_type": "stream",
          "name": "stdout",
          "text": [
            "\n",
            "Transpose matriks A\n",
            "[1, 5, 6]\n",
            "[3, 8, -7]\n",
            "[7, -9, 11]\n",
            "[2, 0, 12]\n"
          ]
        }
      ]
    }
  ]
}