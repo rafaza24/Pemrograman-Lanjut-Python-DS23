{
  "nbformat": 4,
  "nbformat_minor": 0,
  "metadata": {
    "colab": {
      "provenance": [],
      "include_colab_link": true
    },
    "kernelspec": {
      "name": "python3",
      "display_name": "Python 3"
    },
    "language_info": {
      "name": "python"
    }
  },
  "cells": [
    {
      "cell_type": "markdown",
      "metadata": {
        "id": "view-in-github",
        "colab_type": "text"
      },
      "source": [
        "<a href=\"https://colab.research.google.com/github/rafaza24/Pemrograman-Lanjut-Python-DS23/blob/main/Array.ipynb\" target=\"_parent\"><img src=\"https://colab.research.google.com/assets/colab-badge.svg\" alt=\"Open In Colab\"/></a>"
      ]
    },
    {
      "cell_type": "markdown",
      "source": [
        "#**🖥️👩🏻‍💻PRAKTIKUM PEMROGRAMAN LANJUT🔥**\n",
        "##**Pertemuan (3) ARRAY - Senin, 28 Oktober 2024**\n",
        "\n",
        "👤 Nama: Rafid Farhan Zai / NRP: 2C2230001 / Kelas: III/A Sains Data\n",
        "\n",
        "💬Deskripsi Pembahasan Materi Array:\n",
        "\n",
        "1.1.  Array\n",
        "\n",
        "\n"
      ],
      "metadata": {
        "id": "_bN6_LxQCJZT"
      }
    },
    {
      "cell_type": "markdown",
      "source": [
        "#🤸🏻‍♀️ EKSPLORASI PRIBADI DI KELAS ✨"
      ],
      "metadata": {
        "id": "N0U2Qjks8P9F"
      }
    },
    {
      "cell_type": "code",
      "source": [],
      "metadata": {
        "id": "pLfD-hZacMMN"
      },
      "execution_count": null,
      "outputs": []
    },
    {
      "cell_type": "code",
      "execution_count": null,
      "metadata": {
        "id": "itmMcxv88OIm"
      },
      "outputs": [],
      "source": []
    },
    {
      "cell_type": "markdown",
      "source": [
        "- Interpretasi coding:\n",
        "\n",
        "- Interpretasi Hasil:"
      ],
      "metadata": {
        "id": "f1J9LJyv9-YC"
      }
    },
    {
      "cell_type": "markdown",
      "source": [
        "#🧠 LATIHAN SOAL DI KELAS ⏱️"
      ],
      "metadata": {
        "id": "KEGjH0_P9D1-"
      }
    },
    {
      "cell_type": "markdown",
      "source": [
        "Problem (1) bilangan reverse"
      ],
      "metadata": {
        "id": "nt7-fY7s9PgC"
      }
    },
    {
      "cell_type": "code",
      "source": [
        "N = int(input(\"Masukkan jumlah bilangan: \"))\n",
        "bilangan = []\n",
        "\n",
        "for i in range(N):\n",
        "    num = int(input(f\"Masukkan bilangan ke-{i+1}: \"))\n",
        "    bilangan.append(num)\n",
        "\n",
        "print(\"Bilangan dalam urutan terbalik:\")\n",
        "for num in reversed(bilangan):\n",
        "    print(num)"
      ],
      "metadata": {
        "id": "h7si6sBj9Mr4",
        "colab": {
          "base_uri": "https://localhost:8080/"
        },
        "outputId": "748ae8e3-bd9e-4fd0-caed-ab2e5d534f9f"
      },
      "execution_count": null,
      "outputs": [
        {
          "output_type": "stream",
          "name": "stdout",
          "text": [
            "Masukkan jumlah bilangan: 5\n",
            "Masukkan bilangan ke-1: 5\n",
            "Masukkan bilangan ke-2: 2\n",
            "Masukkan bilangan ke-3: 1\n",
            "Masukkan bilangan ke-4: 6\n",
            "Masukkan bilangan ke-5: 3\n",
            "Bilangan dalam urutan terbalik:\n",
            "3\n",
            "6\n",
            "1\n",
            "2\n",
            "5\n"
          ]
        }
      ]
    },
    {
      "cell_type": "markdown",
      "source": [
        "- Interpretasi coding: Program Python ini menerima N bilangan dari pengguna dan menampilkan bilangan-bilangan tersebut dalam urutan terbalik, menggunakan list dan fungsi reversed()\n",
        "\n",
        "- Interpretasi Hasil: Hasil program menunjukkan bilangan yang dimasukkan oleh pengguna ditampilkan dalam urutan terbalik sesuai dengan input yang diberikan."
      ],
      "metadata": {
        "id": "Wou8YKfJ9lvY"
      }
    },
    {
      "cell_type": "markdown",
      "source": [
        "Problem (2) Anagram"
      ],
      "metadata": {
        "id": "Eucg6DUK9fgA"
      }
    },
    {
      "cell_type": "code",
      "source": [
        "n_A = int(input(\"Masukkan banyaknya elemen A: \"))\n",
        "A = []\n",
        "for i in range(n_A):\n",
        "    elemen = int(input(f\"Masukkan elemen A ke -{i + 1}: \"))\n",
        "    A.append(elemen)\n",
        "\n",
        "n_B = int(input(\"Masukkan banyaknya elemen B: \"))\n",
        "B = []\n",
        "for i in range(n_B):\n",
        "    elemen = int(input(f\"Masukkan elemen B ke -{i + 1}: \"))\n",
        "    B.append(elemen)\n",
        "\n",
        "frekuensi_A = [0] * 11\n",
        "frekuensi_B = [0] * 11\n",
        "\n",
        "for num in A:\n",
        "    frekuensi_A[num] += 1\n",
        "\n",
        "for num in B:\n",
        "    frekuensi_B[num] += 1\n",
        "\n",
        "if frekuensi_A == frekuensi_B:\n",
        "    print(\"B adalah anagram dari A\")\n",
        "else:\n",
        "    print(\"B bukan anagram dari A\")\n"
      ],
      "metadata": {
        "id": "9uWMEZpP9hlB",
        "colab": {
          "base_uri": "https://localhost:8080/"
        },
        "outputId": "a3422407-ff62-4da7-8baa-e35515bcf368"
      },
      "execution_count": null,
      "outputs": [
        {
          "output_type": "stream",
          "name": "stdout",
          "text": [
            "Masukkan banyaknya elemen A: 3\n",
            "Masukkan elemen A ke -1: 8\n",
            "Masukkan elemen A ke -2: 4\n",
            "Masukkan elemen A ke -3: 3\n",
            "Masukkan banyaknya elemen B: 3\n",
            "Masukkan elemen B ke -1: 4\n",
            "Masukkan elemen B ke -2: 8\n",
            "Masukkan elemen B ke -3: 3\n",
            "B adalah anagram dari A\n"
          ]
        }
      ]
    },
    {
      "cell_type": "markdown",
      "source": [
        "- Interpretasi coding: Kode program ini meminta pengguna untuk memasukkan dua array A dan B, menghitung frekuensi kemunculan elemen di masing-masing array, dan memeriksa apakah B merupakan anagram dari A dengan membandingkan tabel frekuensi mereka.\n",
        "\n",
        "- Interpretasi Hasil:\n",
        "Hasil program menunjukkan apakah array B merupakan anagram dari array A berdasarkan kesamaan frekuensi kemunculan elemen di kedua array."
      ],
      "metadata": {
        "id": "fM9Fo97_93Ni"
      }
    },
    {
      "cell_type": "markdown",
      "source": [
        "problem(2) Palindrom"
      ],
      "metadata": {
        "id": "BCtBk9DLfG7T"
      }
    },
    {
      "cell_type": "code",
      "source": [
        "panjang = int(input(\"Masukkan panjang string: \"))\n",
        "\n",
        "string = input(\"Masukkan string: \")\n",
        "\n",
        "if string == string[::-1]:\n",
        "    print(f\"{string} adalah palindrom\")\n",
        "else:\n",
        "    print(f\"{string} bukan palindrom\")\n"
      ],
      "metadata": {
        "colab": {
          "base_uri": "https://localhost:8080/"
        },
        "id": "TIwyLZ_4fmoI",
        "outputId": "63124042-14b1-470b-b126-94fa23929029"
      },
      "execution_count": null,
      "outputs": [
        {
          "output_type": "stream",
          "name": "stdout",
          "text": [
            "Masukkan panjang string: 5\n",
            "Masukkan string: makan\n",
            "makan bukan palindrom\n"
          ]
        }
      ]
    },
    {
      "cell_type": "markdown",
      "source": [
        "Interpretasi coding: Kode program ini meminta pengguna untuk memasukkan sebuah string, lalu memeriksa dan mencetak apakah string tersebut adalah palindrom dengan membandingkan string asli dengan versi terbaliknya.\n",
        "\n",
        "Interpretasi Hasil :\n",
        "Hasil program menunjukkan apakah string yang dimasukkan oleh pengguna adalah palindrom berdasarkan kesamaan antara string tersebut dan versi terbaliknya."
      ],
      "metadata": {
        "id": "1NI6fRNZf0PC"
      }
    },
    {
      "cell_type": "markdown",
      "source": [
        "#🏆 POST TEST 🎯"
      ],
      "metadata": {
        "id": "J_75vTSXKFGE"
      }
    },
    {
      "cell_type": "markdown",
      "source": [
        "Problem (1)"
      ],
      "metadata": {
        "id": "twhHfrqiKSfV"
      }
    },
    {
      "cell_type": "code",
      "source": [],
      "metadata": {
        "id": "hOI8Gls9KV05"
      },
      "execution_count": null,
      "outputs": []
    },
    {
      "cell_type": "markdown",
      "source": [
        "- Interpretasi coding:\n",
        "- Interpretasi hasil:"
      ],
      "metadata": {
        "id": "t9x---59KWVI"
      }
    },
    {
      "cell_type": "markdown",
      "source": [
        "📌Catatan:\n",
        "  - Notebook python ini dibuat untuk memudahkan temen-temen belajar ngoding dan pengumpulan tugas.\n",
        "  - Silakan download notebook ini lalu upload di Google Collab milik kalian agar format `pertemuan`, `topik pertemuan`,\n",
        "`tanggal`, `deskripsi pembahasan materi`, `baris coding` dan `interpretasi` bisa disesuaikan dengan kebutuhan teman-teman.\n",
        "\n",
        "  - Interpretasi coding dan hasil dimaksudkan agar teman-teman semakin memahami apa yang dipelajari.\n",
        "\n",
        "  - Deskripsi pembahasan materi dimaksudkan agar teman-teman semakin memahami apa fokus yang dipelajari.\n",
        "\n",
        "  - Tulisan di setiap sebelum baris code disebut `markdown`. Ada beberapa jenis simbol yang memudahkan kepenulisan `markdown` kita, yaitu seperti : untuk mengatur ukuran tulisan biasanya tulisan pada header menggunakan ini`#`, `##`, `###`, untuk membuat pointer menggunakan ini `-`, untuk membuat tulisan ter-highlight menggunakan ini *` `* , untuk short-cut membuat tulisan jadi **bold** gunakan ini `** **`, dan untuk *tulisan miring* gunakan ini `* *` .\n",
        "\n",
        "  - Semangat belajar! 🌟✨\n",
        "\n",
        "©️ LABORATORIUM SAINS DATA 2024"
      ],
      "metadata": {
        "id": "D-tRQnbQK69l"
      }
    }
  ]
}